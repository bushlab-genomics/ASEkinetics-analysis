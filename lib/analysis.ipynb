{
 "cells": [
  {
   "cell_type": "code",
   "execution_count": 1,
   "metadata": {},
   "outputs": [],
   "source": [
    "import pandas as pd\n",
    "import scipy as sp\n",
    "import sys"
   ]
  },
  {
   "cell_type": "code",
   "execution_count": 2,
   "metadata": {},
   "outputs": [],
   "source": [
    "asb_input='POLR2A.asb'\n",
    "vcf_input = 'NA12878_TSS2k_hg38.vcf'\n",
    "kinetics_input = '/mnt/pan/Data14/1kgp/NA12878/NA12878_pb.est'\n",
    "\n",
    "asb = pd.read_csv(asb_input, header=0,index_col=0)\n",
    "vcf = pd.read_csv(vcf_input, comment='#', header=None, sep=\"\\t\",usecols=list(range(6)) + [9,13],\n",
    "                names=['chr','pos','ID','ref','alt','qual','genotype','gene'])                     \n",
    "kinetics = pd.read_csv(kinetics_input, header=0,index_col=0)\n",
    "\n",
    "kinetics[['gene','allele']] = kinetics.index.to_series().str.split('-', n=1, expand=True)\n",
    "kinetics['burst size'] = kinetics['ksyn']/kinetics['koff']\n",
    "kinetics['burst frequency'] = kinetics['kon'] * kinetics['koff'] / (kinetics['kon'] + kinetics['koff'])"
   ]
  },
  {
   "cell_type": "code",
   "execution_count": 3,
   "metadata": {},
   "outputs": [
    {
     "name": "stdout",
     "output_type": "stream",
     "text": [
      "                  ID  CHROM       POS REF ALT  REF.counts  ALT.counts  \\\n",
      "61    1:16896254:C:G   chr1  16896254   C   G          54           2   \n",
      "63    1:16905229:A:G   chr1  16905229   A   G          51           6   \n",
      "141   1:44721658:G:A   chr1  44721658   G   A          47           8   \n",
      "186  10:14185503:G:A  chr10  14185503   G   A          10           1   \n",
      "190  10:14185809:A:G  chr10  14185809   A   G          33          11   \n",
      "\n",
      "     Total.counts        AR    RMbias  RAF  Bayes_lower  Bayes_upper  \\\n",
      "61             56  0.964286  0.533178  0.5     0.877597     0.987270   \n",
      "63             57  0.894737  0.553132  0.5     0.784118     0.947259   \n",
      "141            55  0.854545  0.530995  0.5     0.736380     0.917791   \n",
      "186            11  0.909091  0.530995  0.5     0.622747     0.975878   \n",
      "190            44  0.750000  0.553132  0.5     0.605699     0.851488   \n",
      "\n",
      "     Corrected.AR  isASB  POLR2A  \n",
      "61       0.932433   True  POLR2A  \n",
      "63       0.865689   True  POLR2A  \n",
      "141      0.827086   True  POLR2A  \n",
      "186      0.799312   True  POLR2A  \n",
      "190      0.728594   True  POLR2A  \n",
      "   chr     pos             ID ref alt qual genotype             gene\n",
      "0   10   73650   10:73650:A:C   A   C    .      0|1  ENSG00000261456\n",
      "1   10   73856   10:73856:A:G   A   G    .      0|1  ENSG00000261456\n",
      "2   10  134947  10:134947:C:A   C   A    .      0|1  ENSG00000015171\n",
      "3   10  436738  10:436738:T:C   T   C    .      0|1  ENSG00000233021\n",
      "4   10  436887  10:436887:C:T   C   T    .      1|0  ENSG00000233021\n",
      "                                      kon        koff     ksyn     n     mean  \\\n",
      "ENSG00000001036-maternal_allele  40.67283   640.22830  5.67575  7145  0.33898   \n",
      "ENSG00000001036-paternal_allele   0.06522     3.36936  2.29481  7145  0.04367   \n",
      "ENSG00000001561-maternal_allele   8.94648   354.76454  2.07679  7145  0.05108   \n",
      "ENSG00000001561-paternal_allele   0.00100  1000.00000  1.00000  7145  0.00126   \n",
      "ENSG00000001629-maternal_allele  55.08699   147.95307  1.00000  7145  0.27096   \n",
      "\n",
      "                                     var             gene           allele  \\\n",
      "ENSG00000001036-maternal_allele  0.34192  ENSG00000001036  maternal_allele   \n",
      "ENSG00000001036-paternal_allele  0.06583  ENSG00000001036  paternal_allele   \n",
      "ENSG00000001561-maternal_allele  0.05155  ENSG00000001561  maternal_allele   \n",
      "ENSG00000001561-paternal_allele  0.00126  ENSG00000001561  paternal_allele   \n",
      "ENSG00000001629-maternal_allele  0.25240  ENSG00000001629  maternal_allele   \n",
      "\n",
      "                                 burst size  burst frequency  \n",
      "ENSG00000001036-maternal_allele    0.008865        38.243286  \n",
      "ENSG00000001036-paternal_allele    0.681082         0.063982  \n",
      "ENSG00000001561-maternal_allele    0.005854         8.726417  \n",
      "ENSG00000001561-paternal_allele    0.001000         0.001000  \n",
      "ENSG00000001629-maternal_allele    0.006759        40.141287  \n"
     ]
    }
   ],
   "source": [
    "print(asb.head())\n",
    "print(vcf.head())\n",
    "print(kinetics.head())"
   ]
  },
  {
   "cell_type": "code",
   "execution_count": 4,
   "metadata": {},
   "outputs": [],
   "source": [
    "def pref(x):\n",
    "    if   (x['AR'] > 0.5) & (x['genotype'] == '1|0'):\n",
    "        return 0\n",
    "    elif (x['AR'] > 0.5) & (x['genotype'] == '0|1'):\n",
    "        return 1\n",
    "    elif (x['AR'] < 0.5) & (x['genotype'] == '1|0'):\n",
    "        return 1\n",
    "    elif (x['AR'] < 0.5) & (x['genotype'] == '0|1'):\n",
    "        return 0\n",
    "\n",
    "asb_w_genotype = pd.merge(asb,vcf,on='ID')\n",
    "asb_w_genotype['maternal_allele'] = asb_w_genotype.apply(pref, axis=1)\n",
    "asb_w_genotype['paternal_allele'] =  1 - asb_w_genotype['maternal_allele']"
   ]
  },
  {
   "cell_type": "code",
   "execution_count": 5,
   "metadata": {},
   "outputs": [
    {
     "name": "stdout",
     "output_type": "stream",
     "text": [
      "                 ID  CHROM        POS REF ALT  REF.counts  ALT.counts  \\\n",
      "0    1:16905229:A:G   chr1   16905229   A   G          51           6   \n",
      "1   10:45727276:C:G  chr10   45727276   C   G          14           1   \n",
      "2  12:104986374:A:C  chr12  104986374   A   C          14           3   \n",
      "3  12:104986374:A:C  chr12  104986374   A   C           7           1   \n",
      "4   15:65300564:T:C  chr15   65300564   T   C          25           1   \n",
      "\n",
      "   Total.counts        AR    RMbias  ...  POLR2A  chr        pos  ref  alt  \\\n",
      "0            57  0.894737  0.553132  ...  POLR2A    1   16905229    A    G   \n",
      "1            15  0.933333  0.533178  ...  POLR2A   10   45727276    C    G   \n",
      "2            17  0.823529  0.533178  ...  POLR2A   12  104986374    A    C   \n",
      "3             8  0.875000  0.820999  ...  POLR2A   12  104986374    A    C   \n",
      "4            26  0.961538  0.533483  ...  POLR2A   15   65300564    T    C   \n",
      "\n",
      "  qual  genotype             gene maternal_allele paternal_allele  \n",
      "0    .       1|0  ENSG00000272426               0               1  \n",
      "1    .       0|1  ENSG00000172661               1               0  \n",
      "2    .       1|0  ENSG00000151131               0               1  \n",
      "3    .       1|0  ENSG00000151131               0               1  \n",
      "4    .       0|1  ENSG00000138617               1               0  \n",
      "\n",
      "[5 rows x 25 columns]\n"
     ]
    }
   ],
   "source": [
    "print(asb_w_genotype.head())"
   ]
  },
  {
   "cell_type": "code",
   "execution_count": 6,
   "metadata": {},
   "outputs": [
    {
     "name": "stdout",
     "output_type": "stream",
     "text": [
      "                 ID             gene           allele  pref\n",
      "0    1:16905229:A:G  ENSG00000272426  maternal_allele     0\n",
      "1   10:45727276:C:G  ENSG00000172661  maternal_allele     1\n",
      "2  12:104986374:A:C  ENSG00000151131  maternal_allele     0\n",
      "3  12:104986374:A:C  ENSG00000151131  maternal_allele     0\n",
      "4   15:65300564:T:C  ENSG00000138617  maternal_allele     1\n"
     ]
    }
   ],
   "source": [
    "asb_w_genotype_reform = pd.melt(asb_w_genotype,id_vars=['ID','gene'], \\\n",
    "                            value_vars=['maternal_allele','paternal_allele'], var_name='allele',value_name='pref')\n",
    "print(asb_w_genotype_reform.head())"
   ]
  },
  {
   "cell_type": "code",
   "execution_count": 7,
   "metadata": {},
   "outputs": [
    {
     "name": "stdout",
     "output_type": "stream",
     "text": [
      "                  ID             gene           allele  pref       kon  \\\n",
      "0    10:45727276:C:G  ENSG00000172661  maternal_allele     1  33.17614   \n",
      "1   12:104986374:A:C  ENSG00000151131  maternal_allele     0   2.50532   \n",
      "2   12:104986374:A:C  ENSG00000151131  maternal_allele     0   2.50532   \n",
      "3    15:65300564:T:C  ENSG00000138617  maternal_allele     1  19.01498   \n",
      "4    19:54200892:A:C  ENSG00000170889  maternal_allele     0   0.75376   \n",
      "..               ...              ...              ...   ...       ...   \n",
      "95    7:56064217:C:G  ENSG00000129103  paternal_allele     1   0.11448   \n",
      "96    7:73578528:C:G  ENSG00000106638  paternal_allele     1   0.04461   \n",
      "97   8:102864097:G:A  ENSG00000253320  paternal_allele     1   0.00100   \n",
      "98    8:33484993:C:A  ENSG00000198042  paternal_allele     1   0.47681   \n",
      "99    9:98056788:T:G  ENSG00000095380  paternal_allele     0   0.13112   \n",
      "\n",
      "          koff        ksyn     n      mean         var  burst size  \\\n",
      "0    190.03491     1.00000  7145   0.14850     0.14324    0.005262   \n",
      "1    999.74928   318.37517  7145   0.79580     1.16880    0.318455   \n",
      "2    999.74928   318.37517  7145   0.79580     1.16880    0.318455   \n",
      "3    326.53465     1.07882  7145   0.05948     0.05734    0.003304   \n",
      "4     54.19776  2605.42562  7145  35.60448  1942.08887   48.072570   \n",
      "..         ...         ...   ...       ...         ...         ...   \n",
      "95     0.83811     1.32134  7145   0.15885     0.25342    1.576571   \n",
      "96     1.84175     1.17770  7145   0.02785     0.03911    0.639446   \n",
      "97  1000.00000     1.00000  7145   0.00742     0.03088    0.001000   \n",
      "98   428.83481    17.43364  7145   0.01931     0.02734    0.040654   \n",
      "99     1.28453     6.45533  7145   0.59972     2.06847    5.025441   \n",
      "\n",
      "    burst frequency  \n",
      "0         28.245128  \n",
      "1          2.499057  \n",
      "2          2.499057  \n",
      "3         17.968620  \n",
      "4          0.743421  \n",
      "..              ...  \n",
      "95         0.100722  \n",
      "96         0.043555  \n",
      "97         0.001000  \n",
      "98         0.476280  \n",
      "99         0.118975  \n",
      "\n",
      "[100 rows x 12 columns]\n"
     ]
    }
   ],
   "source": [
    "asb_w_kinetics = pd.merge(asb_w_genotype_reform, kinetics,on=['gene','allele'])\n",
    "print(asb_w_kinetics)"
   ]
  },
  {
   "cell_type": "code",
   "execution_count": 9,
   "metadata": {},
   "outputs": [
    {
     "name": "stderr",
     "output_type": "stream",
     "text": [
      "/home/bxj139/.usr/local/python/3.7.0/lib/python3.7/site-packages/numpy/linalg/linalg.py:2158: RuntimeWarning: invalid value encountered in det\n",
      "  r = _umath_linalg.det(a, signature=signature)\n",
      "/home/bxj139/.usr/local/python/3.7.0/lib/python3.7/site-packages/numpy/linalg/linalg.py:2158: RuntimeWarning: invalid value encountered in det\n",
      "  r = _umath_linalg.det(a, signature=signature)\n",
      "/home/bxj139/.usr/local/python/3.7.0/lib/python3.7/site-packages/numpy/linalg/linalg.py:2158: RuntimeWarning: invalid value encountered in det\n",
      "  r = _umath_linalg.det(a, signature=signature)\n",
      "/home/bxj139/.usr/local/python/3.7.0/lib/python3.7/site-packages/numpy/linalg/linalg.py:2158: RuntimeWarning: invalid value encountered in det\n",
      "  r = _umath_linalg.det(a, signature=signature)\n",
      "/home/bxj139/.usr/local/python/3.7.0/lib/python3.7/site-packages/numpy/linalg/linalg.py:2158: RuntimeWarning: invalid value encountered in det\n",
      "  r = _umath_linalg.det(a, signature=signature)\n"
     ]
    },
    {
     "data": {
      "image/png": "[encoded data removed]",
      "text/plain": [
       "<Figure size 1440x288 with 5 Axes>"
      ]
     },
     "metadata": {},
     "output_type": "display_data"
    }
   ],
   "source": [
    "from matplotlib.colors import ListedColormap\n",
    "import matplotlib.patches as mpatches\n",
    "import matplotlib.pyplot as plt\n",
    "import matplotlib as mpl\n",
    "import pingouin as pg\n",
    "plt.rcParams['font.size'] = 16\n",
    "plt.rcParams['axes.linewidth'] = 1\n",
    "\n",
    "kp=['kon','koff','ksyn','burst size','burst frequency']\n",
    "nfig=len(kp)\n",
    "fig,ax = plt.subplots(ncols=nfig, sharex=True,constrained_layout=True,figsize=(4*nfig, 4))\n",
    "for i, ikp in enumerate(kp):\n",
    "    x  = [0,1]\n",
    "    y0 = asb_w_kinetics.loc[asb_w_kinetics['pref']==0,ikp]\n",
    "    y1 = asb_w_kinetics.loc[asb_w_kinetics['pref']==1,ikp]\n",
    "\n",
    "    res = pg.mwu(y1, y0)\n",
    "    pval = round(res.loc['MWU','p-val'],3)\n",
    "    es   = round(res.loc['MWU','CLES']-0.5, 3)\n",
    "    \n",
    "    ax[i].violinplot([y0,y1],x)\n",
    "    ax[i].set_title(ikp)\n",
    "    ax[i].set_xlabel('preferred allele')\n",
    "    ax[i].text(0.3, 1,'U=%s\\npval=%s'%(es, pval))\n",
    "plt.savefig(asb_input + 'tss2k' + '.pdf')"
   ]
  },
  {
   "cell_type": "code",
   "execution_count": null,
   "metadata": {},
   "outputs": [],
   "source": []
  }
 ],
 "metadata": {
  "kernelspec": {
   "display_name": "Python 3",
   "language": "python",
   "name": "python3"
  },
  "language_info": {
   "codemirror_mode": {
    "name": "ipython",
    "version": 3
   },
   "file_extension": ".py",
   "mimetype": "text/x-python",
   "name": "python",
   "nbconvert_exporter": "python",
   "pygments_lexer": "ipython3",
   "version": "3.7.0"
  }
 },
 "nbformat": 4,
 "nbformat_minor": 2
}
